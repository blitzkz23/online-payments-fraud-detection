{
 "cells": [
  {
   "attachments": {},
   "cell_type": "markdown",
   "metadata": {},
   "source": [
    "# <span><center><div style=\"font-family: Trebuchet MS; background-color: #1e81b0; color: #eeeee4; padding: 12px; line-height: 1;\">Training Pipeline Notebook</div></center></span>"
   ]
  },
  {
   "attachments": {},
   "cell_type": "markdown",
   "metadata": {},
   "source": [
    "I separated the machine learning training pipeline from the EDA for cleaner approach."
   ]
  },
  {
   "cell_type": "markdown",
   "metadata": {},
   "source": [
    "# <span><center><div style=\"font-family: Trebuchet MS; background-color: #1e81b0; color: #eeeee4; padding: 12px; line-height: 1;\">Import Necessary Libraries</div></center></span>"
   ]
  },
  {
   "cell_type": "code",
   "execution_count": 1,
   "metadata": {},
   "outputs": [],
   "source": [
    "# Exploration purpose\n",
    "import pandas as pd\n",
    "import numpy as np\n",
    "import matplotlib.pyplot as plt\n",
    "import seaborn as sns\n",
    "\n",
    "# ML Model related\n",
    "from sklearn.preprocessing import LabelEncoder, RobustScaler, OneHotEncoder\n",
    "from sklearn.model_selection import train_test_split, RepeatedStratifiedKFold, cross_val_score\n",
    "from sklearn.linear_model import LogisticRegression\n",
    "from sklearn.ensemble import RandomForestClassifier\n",
    "from sklearn.tree import DecisionTreeClassifier\n",
    "from sklearn.svm import SVC\n",
    "from sklearn.naive_bayes import GaussianNB\n",
    "from sklearn.metrics import confusion_matrix, classification_report, recall_score, precision_score, f1_score, roc_auc_score, plot_roc_curve\n",
    "from sklearn.preprocessing import MinMaxScaler\n",
    "from sklearn.feature_selection import SelectKBest\n",
    "from sklearn.feature_selection import chi2, f_classif\n",
    "from sklearn.model_selection import RandomizedSearchCV\n",
    "from sklearn.pipeline import Pipeline\n",
    "from sklearn.compose import ColumnTransformer\n",
    "from lazypredict.Supervised import LazyClassifier\n",
    "import xgboost as xgb\n",
    "from sklearn import set_config\n",
    "from joblib import dump\n",
    "from joblib import load\n",
    "\n",
    "# Data balancing\n",
    "from collections import Counter\n",
    "from imblearn.over_sampling import SMOTE\n",
    "\n",
    "# Other\n",
    "import joblib\n",
    "import pickle\n",
    "import warnings\n",
    "warnings.filterwarnings('ignore')"
   ]
  },
  {
   "cell_type": "markdown",
   "metadata": {},
   "source": [
    "# <span><center><div style=\"font-family: Trebuchet MS; background-color: #1e81b0; color: #eeeee4; padding: 12px; line-height: 1;\">Load Dataset</div></center></span>"
   ]
  },
  {
   "cell_type": "code",
   "execution_count": 2,
   "metadata": {},
   "outputs": [],
   "source": [
    "dataset_dir = '../dataset/cleaned-fraud-payments.csv'\n",
    "payment_fraud_df = pd.read_csv(dataset_dir)"
   ]
  },
  {
   "cell_type": "code",
   "execution_count": 3,
   "metadata": {},
   "outputs": [
    {
     "data": {
      "text/html": [
       "<div>\n",
       "<style scoped>\n",
       "    .dataframe tbody tr th:only-of-type {\n",
       "        vertical-align: middle;\n",
       "    }\n",
       "\n",
       "    .dataframe tbody tr th {\n",
       "        vertical-align: top;\n",
       "    }\n",
       "\n",
       "    .dataframe thead th {\n",
       "        text-align: right;\n",
       "    }\n",
       "</style>\n",
       "<table border=\"1\" class=\"dataframe\">\n",
       "  <thead>\n",
       "    <tr style=\"text-align: right;\">\n",
       "      <th></th>\n",
       "      <th>step</th>\n",
       "      <th>type</th>\n",
       "      <th>amount</th>\n",
       "      <th>isFraud</th>\n",
       "      <th>isFlaggedFraud</th>\n",
       "      <th>diffOrig</th>\n",
       "      <th>diffDest</th>\n",
       "    </tr>\n",
       "  </thead>\n",
       "  <tbody>\n",
       "    <tr>\n",
       "      <th>0</th>\n",
       "      <td>1</td>\n",
       "      <td>PAYMENT</td>\n",
       "      <td>9839.64</td>\n",
       "      <td>0</td>\n",
       "      <td>0</td>\n",
       "      <td>9839.64</td>\n",
       "      <td>0.00</td>\n",
       "    </tr>\n",
       "    <tr>\n",
       "      <th>1</th>\n",
       "      <td>1</td>\n",
       "      <td>PAYMENT</td>\n",
       "      <td>1864.28</td>\n",
       "      <td>0</td>\n",
       "      <td>0</td>\n",
       "      <td>1864.28</td>\n",
       "      <td>0.00</td>\n",
       "    </tr>\n",
       "    <tr>\n",
       "      <th>2</th>\n",
       "      <td>1</td>\n",
       "      <td>TRANSFER</td>\n",
       "      <td>181.00</td>\n",
       "      <td>1</td>\n",
       "      <td>0</td>\n",
       "      <td>181.00</td>\n",
       "      <td>0.00</td>\n",
       "    </tr>\n",
       "    <tr>\n",
       "      <th>3</th>\n",
       "      <td>1</td>\n",
       "      <td>CASH_OUT</td>\n",
       "      <td>181.00</td>\n",
       "      <td>1</td>\n",
       "      <td>0</td>\n",
       "      <td>181.00</td>\n",
       "      <td>21182.00</td>\n",
       "    </tr>\n",
       "    <tr>\n",
       "      <th>4</th>\n",
       "      <td>1</td>\n",
       "      <td>PAYMENT</td>\n",
       "      <td>11668.14</td>\n",
       "      <td>0</td>\n",
       "      <td>0</td>\n",
       "      <td>11668.14</td>\n",
       "      <td>0.00</td>\n",
       "    </tr>\n",
       "    <tr>\n",
       "      <th>...</th>\n",
       "      <td>...</td>\n",
       "      <td>...</td>\n",
       "      <td>...</td>\n",
       "      <td>...</td>\n",
       "      <td>...</td>\n",
       "      <td>...</td>\n",
       "      <td>...</td>\n",
       "    </tr>\n",
       "    <tr>\n",
       "      <th>6362615</th>\n",
       "      <td>743</td>\n",
       "      <td>CASH_OUT</td>\n",
       "      <td>339682.13</td>\n",
       "      <td>1</td>\n",
       "      <td>0</td>\n",
       "      <td>339682.13</td>\n",
       "      <td>-339682.13</td>\n",
       "    </tr>\n",
       "    <tr>\n",
       "      <th>6362616</th>\n",
       "      <td>743</td>\n",
       "      <td>TRANSFER</td>\n",
       "      <td>6311409.28</td>\n",
       "      <td>1</td>\n",
       "      <td>0</td>\n",
       "      <td>6311409.28</td>\n",
       "      <td>0.00</td>\n",
       "    </tr>\n",
       "    <tr>\n",
       "      <th>6362617</th>\n",
       "      <td>743</td>\n",
       "      <td>CASH_OUT</td>\n",
       "      <td>6311409.28</td>\n",
       "      <td>1</td>\n",
       "      <td>0</td>\n",
       "      <td>6311409.28</td>\n",
       "      <td>-6311409.27</td>\n",
       "    </tr>\n",
       "    <tr>\n",
       "      <th>6362618</th>\n",
       "      <td>743</td>\n",
       "      <td>TRANSFER</td>\n",
       "      <td>850002.52</td>\n",
       "      <td>1</td>\n",
       "      <td>0</td>\n",
       "      <td>850002.52</td>\n",
       "      <td>0.00</td>\n",
       "    </tr>\n",
       "    <tr>\n",
       "      <th>6362619</th>\n",
       "      <td>743</td>\n",
       "      <td>CASH_OUT</td>\n",
       "      <td>850002.52</td>\n",
       "      <td>1</td>\n",
       "      <td>0</td>\n",
       "      <td>850002.52</td>\n",
       "      <td>-850002.52</td>\n",
       "    </tr>\n",
       "  </tbody>\n",
       "</table>\n",
       "<p>6362620 rows × 7 columns</p>\n",
       "</div>"
      ],
      "text/plain": [
       "         step      type     amount  isFraud  isFlaggedFraud   diffOrig  \\\n",
       "0           1   PAYMENT    9839.64        0               0    9839.64   \n",
       "1           1   PAYMENT    1864.28        0               0    1864.28   \n",
       "2           1  TRANSFER     181.00        1               0     181.00   \n",
       "3           1  CASH_OUT     181.00        1               0     181.00   \n",
       "4           1   PAYMENT   11668.14        0               0   11668.14   \n",
       "...       ...       ...        ...      ...             ...        ...   \n",
       "6362615   743  CASH_OUT  339682.13        1               0  339682.13   \n",
       "6362616   743  TRANSFER 6311409.28        1               0 6311409.28   \n",
       "6362617   743  CASH_OUT 6311409.28        1               0 6311409.28   \n",
       "6362618   743  TRANSFER  850002.52        1               0  850002.52   \n",
       "6362619   743  CASH_OUT  850002.52        1               0  850002.52   \n",
       "\n",
       "           diffDest  \n",
       "0              0.00  \n",
       "1              0.00  \n",
       "2              0.00  \n",
       "3          21182.00  \n",
       "4              0.00  \n",
       "...             ...  \n",
       "6362615  -339682.13  \n",
       "6362616        0.00  \n",
       "6362617 -6311409.27  \n",
       "6362618        0.00  \n",
       "6362619  -850002.52  \n",
       "\n",
       "[6362620 rows x 7 columns]"
      ]
     },
     "execution_count": 3,
     "metadata": {},
     "output_type": "execute_result"
    }
   ],
   "source": [
    "payment_fraud_df"
   ]
  },
  {
   "attachments": {},
   "cell_type": "markdown",
   "metadata": {},
   "source": [
    "# <span><center><div style=\"font-family: Trebuchet MS; background-color: #1e81b0; color: #eeeee4; padding: 12px; line-height: 1;\">Data Preprocessing</div></center></span>"
   ]
  },
  {
   "attachments": {},
   "cell_type": "markdown",
   "metadata": {},
   "source": [
    "## Train Test Split"
   ]
  },
  {
   "cell_type": "code",
   "execution_count": 4,
   "metadata": {},
   "outputs": [],
   "source": [
    "X = payment_fraud_df.drop(columns='isFraud')\n",
    "y = payment_fraud_df['isFraud']"
   ]
  },
  {
   "cell_type": "code",
   "execution_count": 5,
   "metadata": {},
   "outputs": [],
   "source": [
    "# Split dataset\n",
    "X_train, X_test, y_train, y_test = train_test_split(X, y, test_size=0.3, random_state=42)"
   ]
  },
  {
   "cell_type": "code",
   "execution_count": 6,
   "metadata": {},
   "outputs": [
    {
     "name": "stdout",
     "output_type": "stream",
     "text": [
      "Total # of sample in whole dataset: 6362620\n",
      "=========================================\n",
      "Total # of sample in train dataset: 4453834\n",
      "=========================================\n",
      "Total # of sample in test dataset: 1908786\n"
     ]
    }
   ],
   "source": [
    "# Check each sample of splitted data\n",
    "print(f'Total # of sample in whole dataset: {len(X)}')\n",
    "print('=========================================')\n",
    "print(f'Total # of sample in train dataset: {len(X_train)}')\n",
    "print('=========================================')\n",
    "print(f'Total # of sample in test dataset: {len(X_test)}')\n"
   ]
  },
  {
   "attachments": {},
   "cell_type": "markdown",
   "metadata": {},
   "source": [
    "## One Hot Encoding\n",
    "Because there is only five unique value in this column we can use one hot encoding to turn the categorical into numeric value, so the ML algorithm can process it."
   ]
  },
  {
   "cell_type": "code",
   "execution_count": 7,
   "metadata": {},
   "outputs": [],
   "source": [
    "encoder = OneHotEncoder(handle_unknown='ignore', sparse=False)"
   ]
  },
  {
   "attachments": {},
   "cell_type": "markdown",
   "metadata": {},
   "source": [
    "### Scaling with Robust Scaler"
   ]
  },
  {
   "attachments": {},
   "cell_type": "markdown",
   "metadata": {},
   "source": [
    "From our exploration phase, we concluded that the dataset are heavily-imbued with outliers, that's why we use Robust Scaler to scale it.  RobustScaler is a preprocessing technique used to scale numeric features in a dataset. It scales the features to be centered around the median value and scales the data according to the interquartile range (IQR) rather than the mean and standard deviation, which makes it robust to outliers."
   ]
  },
  {
   "cell_type": "code",
   "execution_count": 8,
   "metadata": {},
   "outputs": [],
   "source": [
    "scaler = RobustScaler()"
   ]
  },
  {
   "attachments": {},
   "cell_type": "markdown",
   "metadata": {},
   "source": [
    "## Column Transformer"
   ]
  },
  {
   "cell_type": "code",
   "execution_count": 9,
   "metadata": {},
   "outputs": [],
   "source": [
    "# Define numeric and categorical features\n",
    "numerical_features = payment_fraud_df.select_dtypes(exclude=object).columns.tolist()\n",
    "categorical_features = ['type']"
   ]
  },
  {
   "cell_type": "code",
   "execution_count": 10,
   "metadata": {},
   "outputs": [],
   "source": [
    "# Remove label from feature\n",
    "numerical_features.remove('isFraud')"
   ]
  },
  {
   "cell_type": "code",
   "execution_count": 11,
   "metadata": {},
   "outputs": [],
   "source": [
    "# Define column transformer for pipeline use later\n",
    "preprocessor = ColumnTransformer([\n",
    "    ('encoder', encoder, categorical_features),\n",
    "    ('scaler', scaler, numerical_features)\n",
    "], remainder=\"passthrough\")"
   ]
  },
  {
   "attachments": {},
   "cell_type": "markdown",
   "metadata": {},
   "source": [
    "# <span><center><div style=\"font-family: Trebuchet MS; background-color: #1e81b0; color: #eeeee4; padding: 12px; line-height: 1;\">Model Building</div></center></span>"
   ]
  },
  {
   "attachments": {},
   "cell_type": "markdown",
   "metadata": {},
   "source": [
    "## Base Model Testing"
   ]
  },
  {
   "attachments": {},
   "cell_type": "markdown",
   "metadata": {},
   "source": [
    "Before building pipeline, model selection or hyperparameter tuning first we are gonna compare all of ML algorithm to select the best base for our model"
   ]
  },
  {
   "cell_type": "code",
   "execution_count": null,
   "metadata": {},
   "outputs": [
    {
     "name": "stderr",
     "output_type": "stream",
     "text": [
      "100%|██████████| 29/29 [4:29:14<00:00, 557.05s/it]   \n"
     ]
    }
   ],
   "source": [
    "clf = LazyClassifier(verbose=0, ignore_warnings=True, custom_metric=None)\n",
    "models, predictions = clf.fit(X_train, X_test, y_train, y_test)"
   ]
  },
  {
   "cell_type": "code",
   "execution_count": null,
   "metadata": {},
   "outputs": [
    {
     "data": {
      "text/html": [
       "<div>\n",
       "<style scoped>\n",
       "    .dataframe tbody tr th:only-of-type {\n",
       "        vertical-align: middle;\n",
       "    }\n",
       "\n",
       "    .dataframe tbody tr th {\n",
       "        vertical-align: top;\n",
       "    }\n",
       "\n",
       "    .dataframe thead th {\n",
       "        text-align: right;\n",
       "    }\n",
       "</style>\n",
       "<table border=\"1\" class=\"dataframe\">\n",
       "  <thead>\n",
       "    <tr style=\"text-align: right;\">\n",
       "      <th></th>\n",
       "      <th>Accuracy</th>\n",
       "      <th>Balanced Accuracy</th>\n",
       "      <th>ROC AUC</th>\n",
       "      <th>F1 Score</th>\n",
       "      <th>Time Taken</th>\n",
       "    </tr>\n",
       "    <tr>\n",
       "      <th>Model</th>\n",
       "      <th></th>\n",
       "      <th></th>\n",
       "      <th></th>\n",
       "      <th></th>\n",
       "      <th></th>\n",
       "    </tr>\n",
       "  </thead>\n",
       "  <tbody>\n",
       "    <tr>\n",
       "      <th>XGBClassifier</th>\n",
       "      <td>1.00</td>\n",
       "      <td>0.89</td>\n",
       "      <td>0.89</td>\n",
       "      <td>1.00</td>\n",
       "      <td>101.68</td>\n",
       "    </tr>\n",
       "    <tr>\n",
       "      <th>DecisionTreeClassifier</th>\n",
       "      <td>1.00</td>\n",
       "      <td>0.89</td>\n",
       "      <td>0.89</td>\n",
       "      <td>1.00</td>\n",
       "      <td>57.05</td>\n",
       "    </tr>\n",
       "    <tr>\n",
       "      <th>BaggingClassifier</th>\n",
       "      <td>1.00</td>\n",
       "      <td>0.88</td>\n",
       "      <td>0.88</td>\n",
       "      <td>1.00</td>\n",
       "      <td>366.75</td>\n",
       "    </tr>\n",
       "    <tr>\n",
       "      <th>RandomForestClassifier</th>\n",
       "      <td>1.00</td>\n",
       "      <td>0.87</td>\n",
       "      <td>0.87</td>\n",
       "      <td>1.00</td>\n",
       "      <td>1235.37</td>\n",
       "    </tr>\n",
       "    <tr>\n",
       "      <th>ExtraTreesClassifier</th>\n",
       "      <td>1.00</td>\n",
       "      <td>0.85</td>\n",
       "      <td>0.85</td>\n",
       "      <td>1.00</td>\n",
       "      <td>312.81</td>\n",
       "    </tr>\n",
       "    <tr>\n",
       "      <th>KNeighborsClassifier</th>\n",
       "      <td>1.00</td>\n",
       "      <td>0.84</td>\n",
       "      <td>0.84</td>\n",
       "      <td>1.00</td>\n",
       "      <td>1221.42</td>\n",
       "    </tr>\n",
       "    <tr>\n",
       "      <th>ExtraTreeClassifier</th>\n",
       "      <td>1.00</td>\n",
       "      <td>0.84</td>\n",
       "      <td>0.84</td>\n",
       "      <td>1.00</td>\n",
       "      <td>6.41</td>\n",
       "    </tr>\n",
       "    <tr>\n",
       "      <th>PassiveAggressiveClassifier</th>\n",
       "      <td>1.00</td>\n",
       "      <td>0.82</td>\n",
       "      <td>0.82</td>\n",
       "      <td>1.00</td>\n",
       "      <td>8.65</td>\n",
       "    </tr>\n",
       "    <tr>\n",
       "      <th>GaussianNB</th>\n",
       "      <td>0.64</td>\n",
       "      <td>0.81</td>\n",
       "      <td>0.81</td>\n",
       "      <td>0.78</td>\n",
       "      <td>5.93</td>\n",
       "    </tr>\n",
       "    <tr>\n",
       "      <th>LGBMClassifier</th>\n",
       "      <td>1.00</td>\n",
       "      <td>0.80</td>\n",
       "      <td>0.80</td>\n",
       "      <td>1.00</td>\n",
       "      <td>11.36</td>\n",
       "    </tr>\n",
       "    <tr>\n",
       "      <th>AdaBoostClassifier</th>\n",
       "      <td>1.00</td>\n",
       "      <td>0.79</td>\n",
       "      <td>0.79</td>\n",
       "      <td>1.00</td>\n",
       "      <td>276.90</td>\n",
       "    </tr>\n",
       "    <tr>\n",
       "      <th>SVC</th>\n",
       "      <td>1.00</td>\n",
       "      <td>0.78</td>\n",
       "      <td>0.78</td>\n",
       "      <td>1.00</td>\n",
       "      <td>12008.53</td>\n",
       "    </tr>\n",
       "    <tr>\n",
       "      <th>Perceptron</th>\n",
       "      <td>1.00</td>\n",
       "      <td>0.74</td>\n",
       "      <td>0.74</td>\n",
       "      <td>1.00</td>\n",
       "      <td>8.80</td>\n",
       "    </tr>\n",
       "    <tr>\n",
       "      <th>LogisticRegression</th>\n",
       "      <td>1.00</td>\n",
       "      <td>0.73</td>\n",
       "      <td>0.73</td>\n",
       "      <td>1.00</td>\n",
       "      <td>34.53</td>\n",
       "    </tr>\n",
       "    <tr>\n",
       "      <th>SGDClassifier</th>\n",
       "      <td>1.00</td>\n",
       "      <td>0.73</td>\n",
       "      <td>0.73</td>\n",
       "      <td>1.00</td>\n",
       "      <td>10.51</td>\n",
       "    </tr>\n",
       "    <tr>\n",
       "      <th>NearestCentroid</th>\n",
       "      <td>1.00</td>\n",
       "      <td>0.70</td>\n",
       "      <td>0.70</td>\n",
       "      <td>1.00</td>\n",
       "      <td>4.82</td>\n",
       "    </tr>\n",
       "    <tr>\n",
       "      <th>LinearSVC</th>\n",
       "      <td>1.00</td>\n",
       "      <td>0.69</td>\n",
       "      <td>0.69</td>\n",
       "      <td>1.00</td>\n",
       "      <td>89.92</td>\n",
       "    </tr>\n",
       "    <tr>\n",
       "      <th>LinearDiscriminantAnalysis</th>\n",
       "      <td>1.00</td>\n",
       "      <td>0.69</td>\n",
       "      <td>0.69</td>\n",
       "      <td>1.00</td>\n",
       "      <td>9.76</td>\n",
       "    </tr>\n",
       "    <tr>\n",
       "      <th>CalibratedClassifierCV</th>\n",
       "      <td>1.00</td>\n",
       "      <td>0.58</td>\n",
       "      <td>0.58</td>\n",
       "      <td>1.00</td>\n",
       "      <td>342.61</td>\n",
       "    </tr>\n",
       "    <tr>\n",
       "      <th>RidgeClassifier</th>\n",
       "      <td>1.00</td>\n",
       "      <td>0.55</td>\n",
       "      <td>0.55</td>\n",
       "      <td>1.00</td>\n",
       "      <td>5.55</td>\n",
       "    </tr>\n",
       "    <tr>\n",
       "      <th>RidgeClassifierCV</th>\n",
       "      <td>1.00</td>\n",
       "      <td>0.55</td>\n",
       "      <td>0.55</td>\n",
       "      <td>1.00</td>\n",
       "      <td>8.85</td>\n",
       "    </tr>\n",
       "    <tr>\n",
       "      <th>BernoulliNB</th>\n",
       "      <td>1.00</td>\n",
       "      <td>0.50</td>\n",
       "      <td>0.50</td>\n",
       "      <td>1.00</td>\n",
       "      <td>5.65</td>\n",
       "    </tr>\n",
       "    <tr>\n",
       "      <th>DummyClassifier</th>\n",
       "      <td>1.00</td>\n",
       "      <td>0.50</td>\n",
       "      <td>0.50</td>\n",
       "      <td>1.00</td>\n",
       "      <td>4.01</td>\n",
       "    </tr>\n",
       "    <tr>\n",
       "      <th>QuadraticDiscriminantAnalysis</th>\n",
       "      <td>0.00</td>\n",
       "      <td>0.50</td>\n",
       "      <td>0.50</td>\n",
       "      <td>0.00</td>\n",
       "      <td>6.32</td>\n",
       "    </tr>\n",
       "  </tbody>\n",
       "</table>\n",
       "</div>"
      ],
      "text/plain": [
       "                               Accuracy  Balanced Accuracy  ROC AUC  F1 Score  \\\n",
       "Model                                                                           \n",
       "XGBClassifier                      1.00               0.89     0.89      1.00   \n",
       "DecisionTreeClassifier             1.00               0.89     0.89      1.00   \n",
       "BaggingClassifier                  1.00               0.88     0.88      1.00   \n",
       "RandomForestClassifier             1.00               0.87     0.87      1.00   \n",
       "ExtraTreesClassifier               1.00               0.85     0.85      1.00   \n",
       "KNeighborsClassifier               1.00               0.84     0.84      1.00   \n",
       "ExtraTreeClassifier                1.00               0.84     0.84      1.00   \n",
       "PassiveAggressiveClassifier        1.00               0.82     0.82      1.00   \n",
       "GaussianNB                         0.64               0.81     0.81      0.78   \n",
       "LGBMClassifier                     1.00               0.80     0.80      1.00   \n",
       "AdaBoostClassifier                 1.00               0.79     0.79      1.00   \n",
       "SVC                                1.00               0.78     0.78      1.00   \n",
       "Perceptron                         1.00               0.74     0.74      1.00   \n",
       "LogisticRegression                 1.00               0.73     0.73      1.00   \n",
       "SGDClassifier                      1.00               0.73     0.73      1.00   \n",
       "NearestCentroid                    1.00               0.70     0.70      1.00   \n",
       "LinearSVC                          1.00               0.69     0.69      1.00   \n",
       "LinearDiscriminantAnalysis         1.00               0.69     0.69      1.00   \n",
       "CalibratedClassifierCV             1.00               0.58     0.58      1.00   \n",
       "RidgeClassifier                    1.00               0.55     0.55      1.00   \n",
       "RidgeClassifierCV                  1.00               0.55     0.55      1.00   \n",
       "BernoulliNB                        1.00               0.50     0.50      1.00   \n",
       "DummyClassifier                    1.00               0.50     0.50      1.00   \n",
       "QuadraticDiscriminantAnalysis      0.00               0.50     0.50      0.00   \n",
       "\n",
       "                               Time Taken  \n",
       "Model                                      \n",
       "XGBClassifier                      101.68  \n",
       "DecisionTreeClassifier              57.05  \n",
       "BaggingClassifier                  366.75  \n",
       "RandomForestClassifier            1235.37  \n",
       "ExtraTreesClassifier               312.81  \n",
       "KNeighborsClassifier              1221.42  \n",
       "ExtraTreeClassifier                  6.41  \n",
       "PassiveAggressiveClassifier          8.65  \n",
       "GaussianNB                           5.93  \n",
       "LGBMClassifier                      11.36  \n",
       "AdaBoostClassifier                 276.90  \n",
       "SVC                              12008.53  \n",
       "Perceptron                           8.80  \n",
       "LogisticRegression                  34.53  \n",
       "SGDClassifier                       10.51  \n",
       "NearestCentroid                      4.82  \n",
       "LinearSVC                           89.92  \n",
       "LinearDiscriminantAnalysis           9.76  \n",
       "CalibratedClassifierCV             342.61  \n",
       "RidgeClassifier                      5.55  \n",
       "RidgeClassifierCV                    8.85  \n",
       "BernoulliNB                          5.65  \n",
       "DummyClassifier                      4.01  \n",
       "QuadraticDiscriminantAnalysis        6.32  "
      ]
     },
     "execution_count": 12,
     "metadata": {},
     "output_type": "execute_result"
    }
   ],
   "source": [
    "models"
   ]
  },
  {
   "attachments": {},
   "cell_type": "markdown",
   "metadata": {},
   "source": [
    "After testing our dataset to some base model we found out that our earlier hypothesis were true, that tree and bagging-based algorithm work great with heavily imbalanced data, and also there's xgboost as usual.  Next we can just use the top algorithm from above to do some hyperparameter tuning and made our models.  We are going to tune Decision Tree and XGBoost as two best models.\n"
   ]
  },
  {
   "attachments": {},
   "cell_type": "markdown",
   "metadata": {},
   "source": [
    "## Hyperparameter Tuning"
   ]
  },
  {
   "attachments": {},
   "cell_type": "markdown",
   "metadata": {},
   "source": [
    "We will use RandomizedSearchCV instead of GridSearch because the dataset size is huge (6 mil rows), and it will take too long for the grid search to search all the best parameter."
   ]
  },
  {
   "attachments": {},
   "cell_type": "markdown",
   "metadata": {},
   "source": [
    "### Decision Tree"
   ]
  },
  {
   "cell_type": "code",
   "execution_count": 12,
   "metadata": {},
   "outputs": [],
   "source": [
    "param_dt = {\"criterion\":[\"gini\", \"entropy\"],\n",
    "                 \"splitter\":[\"best\", \"random\"],\n",
    "                 \"max_depth\": [None, 3, 6, 9, 12],\n",
    "                 \"max_features\":[None, 3, 5, 7],\n",
    "                 \"min_samples_leaf\": [2, 3, 4],\n",
    "                 \"min_samples_split\": [2, 3, 5, 7, 9, 12]}"
   ]
  },
  {
   "cell_type": "code",
   "execution_count": 15,
   "metadata": {},
   "outputs": [],
   "source": [
    "dt_rscv = DecisionTreeClassifier(class_weight = \"balanced\", random_state=42)\n",
    "dt_model = RandomizedSearchCV(estimator=dt_rscv,\n",
    "                             param_distributions=param_dt,\n",
    "                             n_iter=5,\n",
    "                             scoring='precision',\n",
    "                             n_jobs=-1,\n",
    "                             cv=10,\n",
    "                             random_state=42,\n",
    "                             verbose=1)"
   ]
  },
  {
   "attachments": {},
   "cell_type": "markdown",
   "metadata": {},
   "source": [
    "### XGBoost"
   ]
  },
  {
   "attachments": {},
   "cell_type": "markdown",
   "metadata": {},
   "source": [
    "For the xgboost model we will just tune the hyperparams manually because even RSCV is taking so looooooooooooooong, like fr fr."
   ]
  },
  {
   "cell_type": "code",
   "execution_count": 28,
   "metadata": {},
   "outputs": [],
   "source": [
    "xgb_model = xgb.XGBClassifier(learning_rate=0.1, \n",
    "                        n_estimators=100, \n",
    "                        max_depth=3, \n",
    "                        min_child_weight=1, \n",
    "                        gamma=0.1, \n",
    "                        subsample=0.8, \n",
    "                        colsample_bytree=0.8, \n",
    "                        objective='binary:logistic', \n",
    "                        nthread=4, \n",
    "                        scale_pos_weight=1, \n",
    "                        seed=42,\n",
    "                        random_state=42)"
   ]
  },
  {
   "attachments": {},
   "cell_type": "markdown",
   "metadata": {},
   "source": [
    "# <span><center><div style=\"font-family: Trebuchet MS; background-color: #1e81b0; color: #eeeee4; padding: 12px; line-height: 1;\">Building Training Pipeline</div></center></span>"
   ]
  },
  {
   "cell_type": "code",
   "execution_count": 18,
   "metadata": {},
   "outputs": [],
   "source": [
    "# Define function to train models\n",
    "def train_model(classifier, X_train, X_test, y_train, y_test):\n",
    "    classifier.fit(X_train, y_train)\n",
    "    y_pred = classifier.predict(X_test)\n",
    "    cv = RepeatedStratifiedKFold(n_splits=10, n_repeats=3, random_state=1)\n",
    "    print(\"Cross Validation Score : \",'{0:.2%}'.format(cross_val_score(classifier, X_train, y_train, cv = cv, scoring = 'roc_auc').mean()))\n",
    "    print(\"ROC_AUC Score : \",'{0:.2%}'.format(roc_auc_score(y_test, y_pred)))\n",
    "    plot_roc_curve(classifier, X_test, y_test)\n",
    "    plt.title('ROC_AUC_Plot')\n",
    "    plt.show()\n",
    "\n",
    "    return classifier\n",
    "\n",
    "def evaluate_model(classifier, X_test, y_test):\n",
    "    cm = confusion_matrix(y_test, classifier.predict(X_test))\n",
    "    names = ['True Neg','False Pos','False Neg','True Pos']\n",
    "    counts = [value for value in cm.flatten()]\n",
    "    percentages = ['{0:.2%}'.format(value) for value in cm.flatten()/np.sum(cm)]\n",
    "    labels = [f'{v1}\\n{v2}\\n{v3}' for v1, v2, v3 in zip(names, counts, percentages)]\n",
    "    labels = np.asarray(labels).reshape(2,2)\n",
    "    sns.heatmap(cm,annot = labels,cmap = 'Blues',fmt ='')\n",
    "    \n",
    "    # Classification Report\n",
    "    print(classification_report(y_test, classifier.predict(X_test)))\n"
   ]
  },
  {
   "attachments": {},
   "cell_type": "markdown",
   "metadata": {},
   "source": [
    "## DT Pipeline"
   ]
  },
  {
   "cell_type": "code",
   "execution_count": 19,
   "metadata": {},
   "outputs": [],
   "source": [
    "dt_pipeline = Pipeline(steps=[\n",
    "    ('preprocessor', preprocessor),\n",
    "    ('classifier', dt_model)\n",
    "])"
   ]
  },
  {
   "cell_type": "code",
   "execution_count": 20,
   "metadata": {},
   "outputs": [
    {
     "data": {
      "text/html": [
       "<style>#sk-26758148-26d0-4e3b-bd15-f45c576b60b6 {color: black;background-color: white;}#sk-26758148-26d0-4e3b-bd15-f45c576b60b6 pre{padding: 0;}#sk-26758148-26d0-4e3b-bd15-f45c576b60b6 div.sk-toggleable {background-color: white;}#sk-26758148-26d0-4e3b-bd15-f45c576b60b6 label.sk-toggleable__label {cursor: pointer;display: block;width: 100%;margin-bottom: 0;padding: 0.3em;box-sizing: border-box;text-align: center;}#sk-26758148-26d0-4e3b-bd15-f45c576b60b6 label.sk-toggleable__label-arrow:before {content: \"▸\";float: left;margin-right: 0.25em;color: #696969;}#sk-26758148-26d0-4e3b-bd15-f45c576b60b6 label.sk-toggleable__label-arrow:hover:before {color: black;}#sk-26758148-26d0-4e3b-bd15-f45c576b60b6 div.sk-estimator:hover label.sk-toggleable__label-arrow:before {color: black;}#sk-26758148-26d0-4e3b-bd15-f45c576b60b6 div.sk-toggleable__content {max-height: 0;max-width: 0;overflow: hidden;text-align: left;background-color: #f0f8ff;}#sk-26758148-26d0-4e3b-bd15-f45c576b60b6 div.sk-toggleable__content pre {margin: 0.2em;color: black;border-radius: 0.25em;background-color: #f0f8ff;}#sk-26758148-26d0-4e3b-bd15-f45c576b60b6 input.sk-toggleable__control:checked~div.sk-toggleable__content {max-height: 200px;max-width: 100%;overflow: auto;}#sk-26758148-26d0-4e3b-bd15-f45c576b60b6 input.sk-toggleable__control:checked~label.sk-toggleable__label-arrow:before {content: \"▾\";}#sk-26758148-26d0-4e3b-bd15-f45c576b60b6 div.sk-estimator input.sk-toggleable__control:checked~label.sk-toggleable__label {background-color: #d4ebff;}#sk-26758148-26d0-4e3b-bd15-f45c576b60b6 div.sk-label input.sk-toggleable__control:checked~label.sk-toggleable__label {background-color: #d4ebff;}#sk-26758148-26d0-4e3b-bd15-f45c576b60b6 input.sk-hidden--visually {border: 0;clip: rect(1px 1px 1px 1px);clip: rect(1px, 1px, 1px, 1px);height: 1px;margin: -1px;overflow: hidden;padding: 0;position: absolute;width: 1px;}#sk-26758148-26d0-4e3b-bd15-f45c576b60b6 div.sk-estimator {font-family: monospace;background-color: #f0f8ff;border: 1px dotted black;border-radius: 0.25em;box-sizing: border-box;margin-bottom: 0.5em;}#sk-26758148-26d0-4e3b-bd15-f45c576b60b6 div.sk-estimator:hover {background-color: #d4ebff;}#sk-26758148-26d0-4e3b-bd15-f45c576b60b6 div.sk-parallel-item::after {content: \"\";width: 100%;border-bottom: 1px solid gray;flex-grow: 1;}#sk-26758148-26d0-4e3b-bd15-f45c576b60b6 div.sk-label:hover label.sk-toggleable__label {background-color: #d4ebff;}#sk-26758148-26d0-4e3b-bd15-f45c576b60b6 div.sk-serial::before {content: \"\";position: absolute;border-left: 1px solid gray;box-sizing: border-box;top: 2em;bottom: 0;left: 50%;}#sk-26758148-26d0-4e3b-bd15-f45c576b60b6 div.sk-serial {display: flex;flex-direction: column;align-items: center;background-color: white;padding-right: 0.2em;padding-left: 0.2em;}#sk-26758148-26d0-4e3b-bd15-f45c576b60b6 div.sk-item {z-index: 1;}#sk-26758148-26d0-4e3b-bd15-f45c576b60b6 div.sk-parallel {display: flex;align-items: stretch;justify-content: center;background-color: white;}#sk-26758148-26d0-4e3b-bd15-f45c576b60b6 div.sk-parallel::before {content: \"\";position: absolute;border-left: 1px solid gray;box-sizing: border-box;top: 2em;bottom: 0;left: 50%;}#sk-26758148-26d0-4e3b-bd15-f45c576b60b6 div.sk-parallel-item {display: flex;flex-direction: column;position: relative;background-color: white;}#sk-26758148-26d0-4e3b-bd15-f45c576b60b6 div.sk-parallel-item:first-child::after {align-self: flex-end;width: 50%;}#sk-26758148-26d0-4e3b-bd15-f45c576b60b6 div.sk-parallel-item:last-child::after {align-self: flex-start;width: 50%;}#sk-26758148-26d0-4e3b-bd15-f45c576b60b6 div.sk-parallel-item:only-child::after {width: 0;}#sk-26758148-26d0-4e3b-bd15-f45c576b60b6 div.sk-dashed-wrapped {border: 1px dashed gray;margin: 0 0.4em 0.5em 0.4em;box-sizing: border-box;padding-bottom: 0.4em;background-color: white;position: relative;}#sk-26758148-26d0-4e3b-bd15-f45c576b60b6 div.sk-label label {font-family: monospace;font-weight: bold;background-color: white;display: inline-block;line-height: 1.2em;}#sk-26758148-26d0-4e3b-bd15-f45c576b60b6 div.sk-label-container {position: relative;z-index: 2;text-align: center;}#sk-26758148-26d0-4e3b-bd15-f45c576b60b6 div.sk-container {/* jupyter's `normalize.less` sets `[hidden] { display: none; }` but bootstrap.min.css set `[hidden] { display: none !important; }` so we also need the `!important` here to be able to override the default hidden behavior on the sphinx rendered scikit-learn.org. See: https://github.com/scikit-learn/scikit-learn/issues/21755 */display: inline-block !important;position: relative;}#sk-26758148-26d0-4e3b-bd15-f45c576b60b6 div.sk-text-repr-fallback {display: none;}</style><div id=\"sk-26758148-26d0-4e3b-bd15-f45c576b60b6\" class=\"sk-top-container\"><div class=\"sk-text-repr-fallback\"><pre>Pipeline(steps=[(&#x27;preprocessor&#x27;,\n",
       "                 ColumnTransformer(remainder=&#x27;passthrough&#x27;,\n",
       "                                   transformers=[(&#x27;encoder&#x27;,\n",
       "                                                  OneHotEncoder(handle_unknown=&#x27;ignore&#x27;,\n",
       "                                                                sparse=False),\n",
       "                                                  [&#x27;type&#x27;]),\n",
       "                                                 (&#x27;scaler&#x27;, RobustScaler(),\n",
       "                                                  [&#x27;step&#x27;, &#x27;amount&#x27;,\n",
       "                                                   &#x27;isFlaggedFraud&#x27;, &#x27;diffOrig&#x27;,\n",
       "                                                   &#x27;diffDest&#x27;])])),\n",
       "                (&#x27;classifier&#x27;,\n",
       "                 RandomizedSearchCV(cv=10,\n",
       "                                    estimator=DecisionTreeClassifier(class_weight=&#x27;balanced&#x27;,\n",
       "                                                                     random_state=42),\n",
       "                                    n_iter=5, n_jobs=-1,\n",
       "                                    param_distributions={&#x27;criterion&#x27;: [&#x27;gini&#x27;,\n",
       "                                                                       &#x27;entropy&#x27;],\n",
       "                                                         &#x27;max_depth&#x27;: [None, 3,\n",
       "                                                                       6, 9,\n",
       "                                                                       12],\n",
       "                                                         &#x27;max_features&#x27;: [None,\n",
       "                                                                          3, 5,\n",
       "                                                                          7],\n",
       "                                                         &#x27;min_samples_leaf&#x27;: [2,\n",
       "                                                                              3,\n",
       "                                                                              4],\n",
       "                                                         &#x27;min_samples_split&#x27;: [2,\n",
       "                                                                               3,\n",
       "                                                                               5,\n",
       "                                                                               7,\n",
       "                                                                               9,\n",
       "                                                                               12],\n",
       "                                                         &#x27;splitter&#x27;: [&#x27;best&#x27;,\n",
       "                                                                      &#x27;random&#x27;]},\n",
       "                                    random_state=42, scoring=&#x27;f1&#x27;,\n",
       "                                    verbose=1))])</pre><b>Please rerun this cell to show the HTML repr or trust the notebook.</b></div><div class=\"sk-container\" hidden><div class=\"sk-item sk-dashed-wrapped\"><div class=\"sk-label-container\"><div class=\"sk-label sk-toggleable\"><input class=\"sk-toggleable__control sk-hidden--visually\" id=\"31d3e1c2-6499-4489-a388-b051ac5cb8bf\" type=\"checkbox\" ><label for=\"31d3e1c2-6499-4489-a388-b051ac5cb8bf\" class=\"sk-toggleable__label sk-toggleable__label-arrow\">Pipeline</label><div class=\"sk-toggleable__content\"><pre>Pipeline(steps=[(&#x27;preprocessor&#x27;,\n",
       "                 ColumnTransformer(remainder=&#x27;passthrough&#x27;,\n",
       "                                   transformers=[(&#x27;encoder&#x27;,\n",
       "                                                  OneHotEncoder(handle_unknown=&#x27;ignore&#x27;,\n",
       "                                                                sparse=False),\n",
       "                                                  [&#x27;type&#x27;]),\n",
       "                                                 (&#x27;scaler&#x27;, RobustScaler(),\n",
       "                                                  [&#x27;step&#x27;, &#x27;amount&#x27;,\n",
       "                                                   &#x27;isFlaggedFraud&#x27;, &#x27;diffOrig&#x27;,\n",
       "                                                   &#x27;diffDest&#x27;])])),\n",
       "                (&#x27;classifier&#x27;,\n",
       "                 RandomizedSearchCV(cv=10,\n",
       "                                    estimator=DecisionTreeClassifier(class_weight=&#x27;balanced&#x27;,\n",
       "                                                                     random_state=42),\n",
       "                                    n_iter=5, n_jobs=-1,\n",
       "                                    param_distributions={&#x27;criterion&#x27;: [&#x27;gini&#x27;,\n",
       "                                                                       &#x27;entropy&#x27;],\n",
       "                                                         &#x27;max_depth&#x27;: [None, 3,\n",
       "                                                                       6, 9,\n",
       "                                                                       12],\n",
       "                                                         &#x27;max_features&#x27;: [None,\n",
       "                                                                          3, 5,\n",
       "                                                                          7],\n",
       "                                                         &#x27;min_samples_leaf&#x27;: [2,\n",
       "                                                                              3,\n",
       "                                                                              4],\n",
       "                                                         &#x27;min_samples_split&#x27;: [2,\n",
       "                                                                               3,\n",
       "                                                                               5,\n",
       "                                                                               7,\n",
       "                                                                               9,\n",
       "                                                                               12],\n",
       "                                                         &#x27;splitter&#x27;: [&#x27;best&#x27;,\n",
       "                                                                      &#x27;random&#x27;]},\n",
       "                                    random_state=42, scoring=&#x27;f1&#x27;,\n",
       "                                    verbose=1))])</pre></div></div></div><div class=\"sk-serial\"><div class=\"sk-item sk-dashed-wrapped\"><div class=\"sk-label-container\"><div class=\"sk-label sk-toggleable\"><input class=\"sk-toggleable__control sk-hidden--visually\" id=\"4ff872b5-feb4-4895-8f2b-3c7c0e630da3\" type=\"checkbox\" ><label for=\"4ff872b5-feb4-4895-8f2b-3c7c0e630da3\" class=\"sk-toggleable__label sk-toggleable__label-arrow\">preprocessor: ColumnTransformer</label><div class=\"sk-toggleable__content\"><pre>ColumnTransformer(remainder=&#x27;passthrough&#x27;,\n",
       "                  transformers=[(&#x27;encoder&#x27;,\n",
       "                                 OneHotEncoder(handle_unknown=&#x27;ignore&#x27;,\n",
       "                                               sparse=False),\n",
       "                                 [&#x27;type&#x27;]),\n",
       "                                (&#x27;scaler&#x27;, RobustScaler(),\n",
       "                                 [&#x27;step&#x27;, &#x27;amount&#x27;, &#x27;isFlaggedFraud&#x27;,\n",
       "                                  &#x27;diffOrig&#x27;, &#x27;diffDest&#x27;])])</pre></div></div></div><div class=\"sk-parallel\"><div class=\"sk-parallel-item\"><div class=\"sk-item\"><div class=\"sk-label-container\"><div class=\"sk-label sk-toggleable\"><input class=\"sk-toggleable__control sk-hidden--visually\" id=\"92bea03d-d654-461e-9931-4951534cdd44\" type=\"checkbox\" ><label for=\"92bea03d-d654-461e-9931-4951534cdd44\" class=\"sk-toggleable__label sk-toggleable__label-arrow\">encoder</label><div class=\"sk-toggleable__content\"><pre>[&#x27;type&#x27;]</pre></div></div></div><div class=\"sk-serial\"><div class=\"sk-item\"><div class=\"sk-estimator sk-toggleable\"><input class=\"sk-toggleable__control sk-hidden--visually\" id=\"f28e52bb-a288-475a-a5f3-21059674bac2\" type=\"checkbox\" ><label for=\"f28e52bb-a288-475a-a5f3-21059674bac2\" class=\"sk-toggleable__label sk-toggleable__label-arrow\">OneHotEncoder</label><div class=\"sk-toggleable__content\"><pre>OneHotEncoder(handle_unknown=&#x27;ignore&#x27;, sparse=False)</pre></div></div></div></div></div></div><div class=\"sk-parallel-item\"><div class=\"sk-item\"><div class=\"sk-label-container\"><div class=\"sk-label sk-toggleable\"><input class=\"sk-toggleable__control sk-hidden--visually\" id=\"466a107b-cafe-4856-914b-b4a994bd5713\" type=\"checkbox\" ><label for=\"466a107b-cafe-4856-914b-b4a994bd5713\" class=\"sk-toggleable__label sk-toggleable__label-arrow\">scaler</label><div class=\"sk-toggleable__content\"><pre>[&#x27;step&#x27;, &#x27;amount&#x27;, &#x27;isFlaggedFraud&#x27;, &#x27;diffOrig&#x27;, &#x27;diffDest&#x27;]</pre></div></div></div><div class=\"sk-serial\"><div class=\"sk-item\"><div class=\"sk-estimator sk-toggleable\"><input class=\"sk-toggleable__control sk-hidden--visually\" id=\"a2a966bc-95e4-4da3-b406-77ff62e3c18c\" type=\"checkbox\" ><label for=\"a2a966bc-95e4-4da3-b406-77ff62e3c18c\" class=\"sk-toggleable__label sk-toggleable__label-arrow\">RobustScaler</label><div class=\"sk-toggleable__content\"><pre>RobustScaler()</pre></div></div></div></div></div></div><div class=\"sk-parallel-item\"><div class=\"sk-item\"><div class=\"sk-label-container\"><div class=\"sk-label sk-toggleable\"><input class=\"sk-toggleable__control sk-hidden--visually\" id=\"12c7b5ea-e0c9-4b3f-a816-e63389fae8e3\" type=\"checkbox\" ><label for=\"12c7b5ea-e0c9-4b3f-a816-e63389fae8e3\" class=\"sk-toggleable__label sk-toggleable__label-arrow\">remainder</label><div class=\"sk-toggleable__content\"><pre></pre></div></div></div><div class=\"sk-serial\"><div class=\"sk-item\"><div class=\"sk-estimator sk-toggleable\"><input class=\"sk-toggleable__control sk-hidden--visually\" id=\"7d9212c9-1c66-4dca-9084-eecdbea22cc8\" type=\"checkbox\" ><label for=\"7d9212c9-1c66-4dca-9084-eecdbea22cc8\" class=\"sk-toggleable__label sk-toggleable__label-arrow\">passthrough</label><div class=\"sk-toggleable__content\"><pre>passthrough</pre></div></div></div></div></div></div></div></div><div class=\"sk-item sk-dashed-wrapped\"><div class=\"sk-label-container\"><div class=\"sk-label sk-toggleable\"><input class=\"sk-toggleable__control sk-hidden--visually\" id=\"a2c66a90-c2d7-44f6-9c06-d508be0f162d\" type=\"checkbox\" ><label for=\"a2c66a90-c2d7-44f6-9c06-d508be0f162d\" class=\"sk-toggleable__label sk-toggleable__label-arrow\">classifier: RandomizedSearchCV</label><div class=\"sk-toggleable__content\"><pre>RandomizedSearchCV(cv=10,\n",
       "                   estimator=DecisionTreeClassifier(class_weight=&#x27;balanced&#x27;,\n",
       "                                                    random_state=42),\n",
       "                   n_iter=5, n_jobs=-1,\n",
       "                   param_distributions={&#x27;criterion&#x27;: [&#x27;gini&#x27;, &#x27;entropy&#x27;],\n",
       "                                        &#x27;max_depth&#x27;: [None, 3, 6, 9, 12],\n",
       "                                        &#x27;max_features&#x27;: [None, 3, 5, 7],\n",
       "                                        &#x27;min_samples_leaf&#x27;: [2, 3, 4],\n",
       "                                        &#x27;min_samples_split&#x27;: [2, 3, 5, 7, 9,\n",
       "                                                              12],\n",
       "                                        &#x27;splitter&#x27;: [&#x27;best&#x27;, &#x27;random&#x27;]},\n",
       "                   random_state=42, scoring=&#x27;f1&#x27;, verbose=1)</pre></div></div></div><div class=\"sk-parallel\"><div class=\"sk-parallel-item\"><div class=\"sk-item\"><div class=\"sk-serial\"><div class=\"sk-item\"><div class=\"sk-estimator sk-toggleable\"><input class=\"sk-toggleable__control sk-hidden--visually\" id=\"588a1a7b-37cc-4bef-b7ac-92f5796c985c\" type=\"checkbox\" ><label for=\"588a1a7b-37cc-4bef-b7ac-92f5796c985c\" class=\"sk-toggleable__label sk-toggleable__label-arrow\">DecisionTreeClassifier</label><div class=\"sk-toggleable__content\"><pre>DecisionTreeClassifier(class_weight=&#x27;balanced&#x27;, random_state=42)</pre></div></div></div></div></div></div></div></div></div></div></div></div>"
      ],
      "text/plain": [
       "Pipeline(steps=[('preprocessor',\n",
       "                 ColumnTransformer(remainder='passthrough',\n",
       "                                   transformers=[('encoder',\n",
       "                                                  OneHotEncoder(handle_unknown='ignore',\n",
       "                                                                sparse=False),\n",
       "                                                  ['type']),\n",
       "                                                 ('scaler', RobustScaler(),\n",
       "                                                  ['step', 'amount',\n",
       "                                                   'isFlaggedFraud', 'diffOrig',\n",
       "                                                   'diffDest'])])),\n",
       "                ('classifier',\n",
       "                 RandomizedSearchCV(cv=10,\n",
       "                                    estimator=DecisionTreeClassifier(class_weight='balanced',\n",
       "                                                                     random_state=42),\n",
       "                                    n_iter=5, n_jobs=-1,\n",
       "                                    param_distributions={'criterion': ['gini',\n",
       "                                                                       'entropy'],\n",
       "                                                         'max_depth': [None, 3,\n",
       "                                                                       6, 9,\n",
       "                                                                       12],\n",
       "                                                         'max_features': [None,\n",
       "                                                                          3, 5,\n",
       "                                                                          7],\n",
       "                                                         'min_samples_leaf': [2,\n",
       "                                                                              3,\n",
       "                                                                              4],\n",
       "                                                         'min_samples_split': [2,\n",
       "                                                                               3,\n",
       "                                                                               5,\n",
       "                                                                               7,\n",
       "                                                                               9,\n",
       "                                                                               12],\n",
       "                                                         'splitter': ['best',\n",
       "                                                                      'random']},\n",
       "                                    random_state=42, scoring='f1',\n",
       "                                    verbose=1))])"
      ]
     },
     "execution_count": 20,
     "metadata": {},
     "output_type": "execute_result"
    }
   ],
   "source": [
    "# Visualize pipeline\n",
    "set_config(display='diagram')\n",
    "dt_pipeline"
   ]
  },
  {
   "cell_type": "code",
   "execution_count": 21,
   "metadata": {},
   "outputs": [
    {
     "name": "stdout",
     "output_type": "stream",
     "text": [
      "Fitting 10 folds for each of 5 candidates, totalling 50 fits\n",
      "Fitting 10 folds for each of 5 candidates, totalling 50 fits\n",
      "Fitting 10 folds for each of 5 candidates, totalling 50 fits\n",
      "Fitting 10 folds for each of 5 candidates, totalling 50 fits\n",
      "Fitting 10 folds for each of 5 candidates, totalling 50 fits\n",
      "Fitting 10 folds for each of 5 candidates, totalling 50 fits\n",
      "Fitting 10 folds for each of 5 candidates, totalling 50 fits\n",
      "Fitting 10 folds for each of 5 candidates, totalling 50 fits\n",
      "Fitting 10 folds for each of 5 candidates, totalling 50 fits\n",
      "Fitting 10 folds for each of 5 candidates, totalling 50 fits\n",
      "Fitting 10 folds for each of 5 candidates, totalling 50 fits\n",
      "Fitting 10 folds for each of 5 candidates, totalling 50 fits\n",
      "Fitting 10 folds for each of 5 candidates, totalling 50 fits\n",
      "Fitting 10 folds for each of 5 candidates, totalling 50 fits\n",
      "Fitting 10 folds for each of 5 candidates, totalling 50 fits\n",
      "Fitting 10 folds for each of 5 candidates, totalling 50 fits\n",
      "Fitting 10 folds for each of 5 candidates, totalling 50 fits\n",
      "Fitting 10 folds for each of 5 candidates, totalling 50 fits\n",
      "Fitting 10 folds for each of 5 candidates, totalling 50 fits\n",
      "Fitting 10 folds for each of 5 candidates, totalling 50 fits\n",
      "Fitting 10 folds for each of 5 candidates, totalling 50 fits\n",
      "Fitting 10 folds for each of 5 candidates, totalling 50 fits\n",
      "Fitting 10 folds for each of 5 candidates, totalling 50 fits\n",
      "Fitting 10 folds for each of 5 candidates, totalling 50 fits\n",
      "Fitting 10 folds for each of 5 candidates, totalling 50 fits\n",
      "Fitting 10 folds for each of 5 candidates, totalling 50 fits\n",
      "Fitting 10 folds for each of 5 candidates, totalling 50 fits\n",
      "Fitting 10 folds for each of 5 candidates, totalling 50 fits\n",
      "Fitting 10 folds for each of 5 candidates, totalling 50 fits\n",
      "Fitting 10 folds for each of 5 candidates, totalling 50 fits\n",
      "Fitting 10 folds for each of 5 candidates, totalling 50 fits\n",
      "Cross Validation Score :  89.75%\n",
      "ROC_AUC Score :  90.16%\n"
     ]
    },
    {
     "data": {
      "image/png": "[encoded data removed]",
      "text/plain": [
       "<Figure size 640x480 with 1 Axes>"
      ]
     },
     "metadata": {},
     "output_type": "display_data"
    }
   ],
   "source": [
    "# Train model\n",
    "dt_model = train_model(dt_pipeline, X_train, X_test, y_train, y_test)"
   ]
  },
  {
   "cell_type": "code",
   "execution_count": 22,
   "metadata": {},
   "outputs": [
    {
     "name": "stdout",
     "output_type": "stream",
     "text": [
      "              precision    recall  f1-score   support\n",
      "\n",
      "           0       1.00      1.00      1.00   1906351\n",
      "           1       0.54      0.80      0.65      2435\n",
      "\n",
      "    accuracy                           1.00   1908786\n",
      "   macro avg       0.77      0.90      0.82   1908786\n",
      "weighted avg       1.00      1.00      1.00   1908786\n",
      "\n"
     ]
    },
    {
     "data": {
      "image/png": "[encoded data removed]",
      "text/plain": [
       "<Figure size 640x480 with 2 Axes>"
      ]
     },
     "metadata": {},
     "output_type": "display_data"
    }
   ],
   "source": [
    "evaluate_model(dt_model, X_test, y_test)"
   ]
  },
  {
   "attachments": {},
   "cell_type": "markdown",
   "metadata": {},
   "source": [
    "## XGB Pipeline\n"
   ]
  },
  {
   "cell_type": "code",
   "execution_count": 33,
   "metadata": {},
   "outputs": [],
   "source": [
    "xgb_pipeline = Pipeline(steps=[\n",
    "    ('preprocessor', preprocessor),\n",
    "    ('classifier', xgb_model)\n",
    "])"
   ]
  },
  {
   "cell_type": "code",
   "execution_count": 34,
   "metadata": {},
   "outputs": [
    {
     "data": {
      "text/html": [
       "<style>#sk-c427586a-9611-40c3-9ec8-e5a36872f237 {color: black;background-color: white;}#sk-c427586a-9611-40c3-9ec8-e5a36872f237 pre{padding: 0;}#sk-c427586a-9611-40c3-9ec8-e5a36872f237 div.sk-toggleable {background-color: white;}#sk-c427586a-9611-40c3-9ec8-e5a36872f237 label.sk-toggleable__label {cursor: pointer;display: block;width: 100%;margin-bottom: 0;padding: 0.3em;box-sizing: border-box;text-align: center;}#sk-c427586a-9611-40c3-9ec8-e5a36872f237 label.sk-toggleable__label-arrow:before {content: \"▸\";float: left;margin-right: 0.25em;color: #696969;}#sk-c427586a-9611-40c3-9ec8-e5a36872f237 label.sk-toggleable__label-arrow:hover:before {color: black;}#sk-c427586a-9611-40c3-9ec8-e5a36872f237 div.sk-estimator:hover label.sk-toggleable__label-arrow:before {color: black;}#sk-c427586a-9611-40c3-9ec8-e5a36872f237 div.sk-toggleable__content {max-height: 0;max-width: 0;overflow: hidden;text-align: left;background-color: #f0f8ff;}#sk-c427586a-9611-40c3-9ec8-e5a36872f237 div.sk-toggleable__content pre {margin: 0.2em;color: black;border-radius: 0.25em;background-color: #f0f8ff;}#sk-c427586a-9611-40c3-9ec8-e5a36872f237 input.sk-toggleable__control:checked~div.sk-toggleable__content {max-height: 200px;max-width: 100%;overflow: auto;}#sk-c427586a-9611-40c3-9ec8-e5a36872f237 input.sk-toggleable__control:checked~label.sk-toggleable__label-arrow:before {content: \"▾\";}#sk-c427586a-9611-40c3-9ec8-e5a36872f237 div.sk-estimator input.sk-toggleable__control:checked~label.sk-toggleable__label {background-color: #d4ebff;}#sk-c427586a-9611-40c3-9ec8-e5a36872f237 div.sk-label input.sk-toggleable__control:checked~label.sk-toggleable__label {background-color: #d4ebff;}#sk-c427586a-9611-40c3-9ec8-e5a36872f237 input.sk-hidden--visually {border: 0;clip: rect(1px 1px 1px 1px);clip: rect(1px, 1px, 1px, 1px);height: 1px;margin: -1px;overflow: hidden;padding: 0;position: absolute;width: 1px;}#sk-c427586a-9611-40c3-9ec8-e5a36872f237 div.sk-estimator {font-family: monospace;background-color: #f0f8ff;border: 1px dotted black;border-radius: 0.25em;box-sizing: border-box;margin-bottom: 0.5em;}#sk-c427586a-9611-40c3-9ec8-e5a36872f237 div.sk-estimator:hover {background-color: #d4ebff;}#sk-c427586a-9611-40c3-9ec8-e5a36872f237 div.sk-parallel-item::after {content: \"\";width: 100%;border-bottom: 1px solid gray;flex-grow: 1;}#sk-c427586a-9611-40c3-9ec8-e5a36872f237 div.sk-label:hover label.sk-toggleable__label {background-color: #d4ebff;}#sk-c427586a-9611-40c3-9ec8-e5a36872f237 div.sk-serial::before {content: \"\";position: absolute;border-left: 1px solid gray;box-sizing: border-box;top: 2em;bottom: 0;left: 50%;}#sk-c427586a-9611-40c3-9ec8-e5a36872f237 div.sk-serial {display: flex;flex-direction: column;align-items: center;background-color: white;padding-right: 0.2em;padding-left: 0.2em;}#sk-c427586a-9611-40c3-9ec8-e5a36872f237 div.sk-item {z-index: 1;}#sk-c427586a-9611-40c3-9ec8-e5a36872f237 div.sk-parallel {display: flex;align-items: stretch;justify-content: center;background-color: white;}#sk-c427586a-9611-40c3-9ec8-e5a36872f237 div.sk-parallel::before {content: \"\";position: absolute;border-left: 1px solid gray;box-sizing: border-box;top: 2em;bottom: 0;left: 50%;}#sk-c427586a-9611-40c3-9ec8-e5a36872f237 div.sk-parallel-item {display: flex;flex-direction: column;position: relative;background-color: white;}#sk-c427586a-9611-40c3-9ec8-e5a36872f237 div.sk-parallel-item:first-child::after {align-self: flex-end;width: 50%;}#sk-c427586a-9611-40c3-9ec8-e5a36872f237 div.sk-parallel-item:last-child::after {align-self: flex-start;width: 50%;}#sk-c427586a-9611-40c3-9ec8-e5a36872f237 div.sk-parallel-item:only-child::after {width: 0;}#sk-c427586a-9611-40c3-9ec8-e5a36872f237 div.sk-dashed-wrapped {border: 1px dashed gray;margin: 0 0.4em 0.5em 0.4em;box-sizing: border-box;padding-bottom: 0.4em;background-color: white;position: relative;}#sk-c427586a-9611-40c3-9ec8-e5a36872f237 div.sk-label label {font-family: monospace;font-weight: bold;background-color: white;display: inline-block;line-height: 1.2em;}#sk-c427586a-9611-40c3-9ec8-e5a36872f237 div.sk-label-container {position: relative;z-index: 2;text-align: center;}#sk-c427586a-9611-40c3-9ec8-e5a36872f237 div.sk-container {/* jupyter's `normalize.less` sets `[hidden] { display: none; }` but bootstrap.min.css set `[hidden] { display: none !important; }` so we also need the `!important` here to be able to override the default hidden behavior on the sphinx rendered scikit-learn.org. See: https://github.com/scikit-learn/scikit-learn/issues/21755 */display: inline-block !important;position: relative;}#sk-c427586a-9611-40c3-9ec8-e5a36872f237 div.sk-text-repr-fallback {display: none;}</style><div id=\"sk-c427586a-9611-40c3-9ec8-e5a36872f237\" class=\"sk-top-container\"><div class=\"sk-text-repr-fallback\"><pre>Pipeline(steps=[(&#x27;preprocessor&#x27;,\n",
       "                 ColumnTransformer(remainder=&#x27;passthrough&#x27;,\n",
       "                                   transformers=[(&#x27;encoder&#x27;,\n",
       "                                                  OneHotEncoder(handle_unknown=&#x27;ignore&#x27;,\n",
       "                                                                sparse=False),\n",
       "                                                  [&#x27;type&#x27;]),\n",
       "                                                 (&#x27;scaler&#x27;, RobustScaler(),\n",
       "                                                  [&#x27;step&#x27;, &#x27;amount&#x27;,\n",
       "                                                   &#x27;isFlaggedFraud&#x27;, &#x27;diffOrig&#x27;,\n",
       "                                                   &#x27;diffDest&#x27;])])),\n",
       "                (&#x27;classifier&#x27;,\n",
       "                 XGBClassifier(base_score=None, booster=None, callbacks=None,\n",
       "                               colsample_bylevel=None, colsampl...\n",
       "                               feature_types=None, gamma=0.1, gpu_id=None,\n",
       "                               grow_policy=None, importance_type=None,\n",
       "                               interaction_constraints=None, learning_rate=0.1,\n",
       "                               max_bin=None, max_cat_threshold=None,\n",
       "                               max_cat_to_onehot=None, max_delta_step=None,\n",
       "                               max_depth=3, max_leaves=None, min_child_weight=1,\n",
       "                               missing=nan, monotone_constraints=None,\n",
       "                               n_estimators=100, n_jobs=None, nthread=4,\n",
       "                               num_parallel_tree=None, predictor=None, ...))])</pre><b>Please rerun this cell to show the HTML repr or trust the notebook.</b></div><div class=\"sk-container\" hidden><div class=\"sk-item sk-dashed-wrapped\"><div class=\"sk-label-container\"><div class=\"sk-label sk-toggleable\"><input class=\"sk-toggleable__control sk-hidden--visually\" id=\"eee4e5e2-dc47-489d-b63c-0ffd7b289785\" type=\"checkbox\" ><label for=\"eee4e5e2-dc47-489d-b63c-0ffd7b289785\" class=\"sk-toggleable__label sk-toggleable__label-arrow\">Pipeline</label><div class=\"sk-toggleable__content\"><pre>Pipeline(steps=[(&#x27;preprocessor&#x27;,\n",
       "                 ColumnTransformer(remainder=&#x27;passthrough&#x27;,\n",
       "                                   transformers=[(&#x27;encoder&#x27;,\n",
       "                                                  OneHotEncoder(handle_unknown=&#x27;ignore&#x27;,\n",
       "                                                                sparse=False),\n",
       "                                                  [&#x27;type&#x27;]),\n",
       "                                                 (&#x27;scaler&#x27;, RobustScaler(),\n",
       "                                                  [&#x27;step&#x27;, &#x27;amount&#x27;,\n",
       "                                                   &#x27;isFlaggedFraud&#x27;, &#x27;diffOrig&#x27;,\n",
       "                                                   &#x27;diffDest&#x27;])])),\n",
       "                (&#x27;classifier&#x27;,\n",
       "                 XGBClassifier(base_score=None, booster=None, callbacks=None,\n",
       "                               colsample_bylevel=None, colsampl...\n",
       "                               feature_types=None, gamma=0.1, gpu_id=None,\n",
       "                               grow_policy=None, importance_type=None,\n",
       "                               interaction_constraints=None, learning_rate=0.1,\n",
       "                               max_bin=None, max_cat_threshold=None,\n",
       "                               max_cat_to_onehot=None, max_delta_step=None,\n",
       "                               max_depth=3, max_leaves=None, min_child_weight=1,\n",
       "                               missing=nan, monotone_constraints=None,\n",
       "                               n_estimators=100, n_jobs=None, nthread=4,\n",
       "                               num_parallel_tree=None, predictor=None, ...))])</pre></div></div></div><div class=\"sk-serial\"><div class=\"sk-item sk-dashed-wrapped\"><div class=\"sk-label-container\"><div class=\"sk-label sk-toggleable\"><input class=\"sk-toggleable__control sk-hidden--visually\" id=\"72c6bc4a-3d79-4cd4-9b06-54f52f2481eb\" type=\"checkbox\" ><label for=\"72c6bc4a-3d79-4cd4-9b06-54f52f2481eb\" class=\"sk-toggleable__label sk-toggleable__label-arrow\">preprocessor: ColumnTransformer</label><div class=\"sk-toggleable__content\"><pre>ColumnTransformer(remainder=&#x27;passthrough&#x27;,\n",
       "                  transformers=[(&#x27;encoder&#x27;,\n",
       "                                 OneHotEncoder(handle_unknown=&#x27;ignore&#x27;,\n",
       "                                               sparse=False),\n",
       "                                 [&#x27;type&#x27;]),\n",
       "                                (&#x27;scaler&#x27;, RobustScaler(),\n",
       "                                 [&#x27;step&#x27;, &#x27;amount&#x27;, &#x27;isFlaggedFraud&#x27;,\n",
       "                                  &#x27;diffOrig&#x27;, &#x27;diffDest&#x27;])])</pre></div></div></div><div class=\"sk-parallel\"><div class=\"sk-parallel-item\"><div class=\"sk-item\"><div class=\"sk-label-container\"><div class=\"sk-label sk-toggleable\"><input class=\"sk-toggleable__control sk-hidden--visually\" id=\"4b5b34b3-cf56-4b26-9245-a8acc579eebf\" type=\"checkbox\" ><label for=\"4b5b34b3-cf56-4b26-9245-a8acc579eebf\" class=\"sk-toggleable__label sk-toggleable__label-arrow\">encoder</label><div class=\"sk-toggleable__content\"><pre>[&#x27;type&#x27;]</pre></div></div></div><div class=\"sk-serial\"><div class=\"sk-item\"><div class=\"sk-estimator sk-toggleable\"><input class=\"sk-toggleable__control sk-hidden--visually\" id=\"1ff676c5-89ad-490f-81a8-33149bd089da\" type=\"checkbox\" ><label for=\"1ff676c5-89ad-490f-81a8-33149bd089da\" class=\"sk-toggleable__label sk-toggleable__label-arrow\">OneHotEncoder</label><div class=\"sk-toggleable__content\"><pre>OneHotEncoder(handle_unknown=&#x27;ignore&#x27;, sparse=False)</pre></div></div></div></div></div></div><div class=\"sk-parallel-item\"><div class=\"sk-item\"><div class=\"sk-label-container\"><div class=\"sk-label sk-toggleable\"><input class=\"sk-toggleable__control sk-hidden--visually\" id=\"9b3670cb-7010-4562-bd21-40a630551ca6\" type=\"checkbox\" ><label for=\"9b3670cb-7010-4562-bd21-40a630551ca6\" class=\"sk-toggleable__label sk-toggleable__label-arrow\">scaler</label><div class=\"sk-toggleable__content\"><pre>[&#x27;step&#x27;, &#x27;amount&#x27;, &#x27;isFlaggedFraud&#x27;, &#x27;diffOrig&#x27;, &#x27;diffDest&#x27;]</pre></div></div></div><div class=\"sk-serial\"><div class=\"sk-item\"><div class=\"sk-estimator sk-toggleable\"><input class=\"sk-toggleable__control sk-hidden--visually\" id=\"df05587b-20cd-4c39-82b1-44264db67e85\" type=\"checkbox\" ><label for=\"df05587b-20cd-4c39-82b1-44264db67e85\" class=\"sk-toggleable__label sk-toggleable__label-arrow\">RobustScaler</label><div class=\"sk-toggleable__content\"><pre>RobustScaler()</pre></div></div></div></div></div></div><div class=\"sk-parallel-item\"><div class=\"sk-item\"><div class=\"sk-label-container\"><div class=\"sk-label sk-toggleable\"><input class=\"sk-toggleable__control sk-hidden--visually\" id=\"ce5931af-6261-40bc-a76f-a415a00198d8\" type=\"checkbox\" ><label for=\"ce5931af-6261-40bc-a76f-a415a00198d8\" class=\"sk-toggleable__label sk-toggleable__label-arrow\">remainder</label><div class=\"sk-toggleable__content\"><pre>[]</pre></div></div></div><div class=\"sk-serial\"><div class=\"sk-item\"><div class=\"sk-estimator sk-toggleable\"><input class=\"sk-toggleable__control sk-hidden--visually\" id=\"19129fea-ffbc-4885-bd39-f3230ed06544\" type=\"checkbox\" ><label for=\"19129fea-ffbc-4885-bd39-f3230ed06544\" class=\"sk-toggleable__label sk-toggleable__label-arrow\">passthrough</label><div class=\"sk-toggleable__content\"><pre>passthrough</pre></div></div></div></div></div></div></div></div><div class=\"sk-item\"><div class=\"sk-estimator sk-toggleable\"><input class=\"sk-toggleable__control sk-hidden--visually\" id=\"839c9b8c-dea7-47e5-9308-14cdbb166cef\" type=\"checkbox\" ><label for=\"839c9b8c-dea7-47e5-9308-14cdbb166cef\" class=\"sk-toggleable__label sk-toggleable__label-arrow\">XGBClassifier</label><div class=\"sk-toggleable__content\"><pre>XGBClassifier(base_score=None, booster=None, callbacks=None,\n",
       "              colsample_bylevel=None, colsample_bynode=None,\n",
       "              colsample_bytree=0.8, early_stopping_rounds=None,\n",
       "              enable_categorical=False, eval_metric=None, feature_types=None,\n",
       "              gamma=0.1, gpu_id=None, grow_policy=None, importance_type=None,\n",
       "              interaction_constraints=None, learning_rate=0.1, max_bin=None,\n",
       "              max_cat_threshold=None, max_cat_to_onehot=None,\n",
       "              max_delta_step=None, max_depth=3, max_leaves=None,\n",
       "              min_child_weight=1, missing=nan, monotone_constraints=None,\n",
       "              n_estimators=100, n_jobs=None, nthread=4, num_parallel_tree=None,\n",
       "              predictor=None, ...)</pre></div></div></div></div></div></div></div>"
      ],
      "text/plain": [
       "Pipeline(steps=[('preprocessor',\n",
       "                 ColumnTransformer(remainder='passthrough',\n",
       "                                   transformers=[('encoder',\n",
       "                                                  OneHotEncoder(handle_unknown='ignore',\n",
       "                                                                sparse=False),\n",
       "                                                  ['type']),\n",
       "                                                 ('scaler', RobustScaler(),\n",
       "                                                  ['step', 'amount',\n",
       "                                                   'isFlaggedFraud', 'diffOrig',\n",
       "                                                   'diffDest'])])),\n",
       "                ('classifier',\n",
       "                 XGBClassifier(base_score=None, booster=None, callbacks=None,\n",
       "                               colsample_bylevel=None, colsampl...\n",
       "                               feature_types=None, gamma=0.1, gpu_id=None,\n",
       "                               grow_policy=None, importance_type=None,\n",
       "                               interaction_constraints=None, learning_rate=0.1,\n",
       "                               max_bin=None, max_cat_threshold=None,\n",
       "                               max_cat_to_onehot=None, max_delta_step=None,\n",
       "                               max_depth=3, max_leaves=None, min_child_weight=1,\n",
       "                               missing=nan, monotone_constraints=None,\n",
       "                               n_estimators=100, n_jobs=None, nthread=4,\n",
       "                               num_parallel_tree=None, predictor=None, ...))])"
      ]
     },
     "execution_count": 34,
     "metadata": {},
     "output_type": "execute_result"
    }
   ],
   "source": [
    "# Visualize pipeline\n",
    "set_config(display='diagram')\n",
    "xgb_pipeline"
   ]
  },
  {
   "cell_type": "code",
   "execution_count": 35,
   "metadata": {},
   "outputs": [
    {
     "name": "stdout",
     "output_type": "stream",
     "text": [
      "Cross Validation Score :  99.50%\n",
      "ROC_AUC Score :  83.74%\n"
     ]
    },
    {
     "data": {
      "image/png": "[encoded data removed]",
      "text/plain": [
       "<Figure size 640x480 with 1 Axes>"
      ]
     },
     "metadata": {},
     "output_type": "display_data"
    }
   ],
   "source": [
    "# Train model\n",
    "xgb_model = train_model(xgb_pipeline, X_train, X_test, y_train, y_test)"
   ]
  },
  {
   "cell_type": "code",
   "execution_count": 37,
   "metadata": {},
   "outputs": [
    {
     "name": "stdout",
     "output_type": "stream",
     "text": [
      "              precision    recall  f1-score   support\n",
      "\n",
      "           0       1.00      1.00      1.00   1906351\n",
      "           1       0.99      0.67      0.80      2435\n",
      "\n",
      "    accuracy                           1.00   1908786\n",
      "   macro avg       0.99      0.84      0.90   1908786\n",
      "weighted avg       1.00      1.00      1.00   1908786\n",
      "\n"
     ]
    },
    {
     "data": {
      "image/png": "[encoded data removed]",
      "text/plain": [
       "<Figure size 640x480 with 2 Axes>"
      ]
     },
     "metadata": {},
     "output_type": "display_data"
    }
   ],
   "source": [
    "evaluate_model(xgb_model, X_test, y_test)"
   ]
  },
  {
   "attachments": {},
   "cell_type": "markdown",
   "metadata": {},
   "source": [
    "# <span><center><div style=\"font-family: Trebuchet MS; background-color: #1e81b0; color: #eeeee4; padding: 12px; line-height: 1;\">Verdict</div></center></span>"
   ]
  },
  {
   "attachments": {},
   "cell_type": "markdown",
   "metadata": {},
   "source": [
    "For fraud transaction detection, both precision and recall are important, but the choice of which metric to prioritize depends on the specific business needs and goals.\n",
    "\n",
    "Precision is the fraction of predicted fraud cases that are actually fraudulent, while recall is the fraction of actual fraud cases that are correctly identified by the model.\n",
    "\n",
    "If the cost of false positives (i.e., identifying a transaction as fraudulent when it's actually legitimate) is high, then precision should be the primary focus. A high precision means that the model is identifying only the transactions that are most likely to be fraudulent, reducing the number of false positives and the associated costs.\n",
    "\n",
    "On the other hand, if the cost of false negatives (i.e., failing to identify a fraudulent transaction) is high, then recall should be the primary focus. A high recall means that the model is identifying more of the fraudulent transactions, reducing the number of false negatives and the associated losses."
   ]
  },
  {
   "attachments": {},
   "cell_type": "markdown",
   "metadata": {},
   "source": [
    "But for this project we will go with precision as the main metrics, so the XGBoost algorithm with 99% precision is the winner!"
   ]
  },
  {
   "attachments": {},
   "cell_type": "markdown",
   "metadata": {},
   "source": [
    "### Save Best Model"
   ]
  },
  {
   "cell_type": "code",
   "execution_count": 46,
   "metadata": {},
   "outputs": [
    {
     "data": {
      "text/plain": [
       "['../model/xgboost_model-01.joblib']"
      ]
     },
     "execution_count": 46,
     "metadata": {},
     "output_type": "execute_result"
    }
   ],
   "source": [
    "model = xgb_model\n",
    "path_to_dir = '../model/'\n",
    "filename = 'xgboost_model-01.joblib'\n",
    "\n",
    "joblib.dump(model, path_to_dir+filename)"
   ]
  },
  {
   "cell_type": "markdown",
   "metadata": {},
   "source": [
    "### Load Model"
   ]
  },
  {
   "cell_type": "code",
   "execution_count": 47,
   "metadata": {},
   "outputs": [],
   "source": [
    "mdl = joblib.load(path_to_dir+filename)"
   ]
  },
  {
   "cell_type": "code",
   "execution_count": 48,
   "metadata": {},
   "outputs": [
    {
     "data": {
      "text/html": [
       "<style>#sk-5d9e172b-a320-4f1f-8393-8e1684c466e9 {color: black;background-color: white;}#sk-5d9e172b-a320-4f1f-8393-8e1684c466e9 pre{padding: 0;}#sk-5d9e172b-a320-4f1f-8393-8e1684c466e9 div.sk-toggleable {background-color: white;}#sk-5d9e172b-a320-4f1f-8393-8e1684c466e9 label.sk-toggleable__label {cursor: pointer;display: block;width: 100%;margin-bottom: 0;padding: 0.3em;box-sizing: border-box;text-align: center;}#sk-5d9e172b-a320-4f1f-8393-8e1684c466e9 label.sk-toggleable__label-arrow:before {content: \"▸\";float: left;margin-right: 0.25em;color: #696969;}#sk-5d9e172b-a320-4f1f-8393-8e1684c466e9 label.sk-toggleable__label-arrow:hover:before {color: black;}#sk-5d9e172b-a320-4f1f-8393-8e1684c466e9 div.sk-estimator:hover label.sk-toggleable__label-arrow:before {color: black;}#sk-5d9e172b-a320-4f1f-8393-8e1684c466e9 div.sk-toggleable__content {max-height: 0;max-width: 0;overflow: hidden;text-align: left;background-color: #f0f8ff;}#sk-5d9e172b-a320-4f1f-8393-8e1684c466e9 div.sk-toggleable__content pre {margin: 0.2em;color: black;border-radius: 0.25em;background-color: #f0f8ff;}#sk-5d9e172b-a320-4f1f-8393-8e1684c466e9 input.sk-toggleable__control:checked~div.sk-toggleable__content {max-height: 200px;max-width: 100%;overflow: auto;}#sk-5d9e172b-a320-4f1f-8393-8e1684c466e9 input.sk-toggleable__control:checked~label.sk-toggleable__label-arrow:before {content: \"▾\";}#sk-5d9e172b-a320-4f1f-8393-8e1684c466e9 div.sk-estimator input.sk-toggleable__control:checked~label.sk-toggleable__label {background-color: #d4ebff;}#sk-5d9e172b-a320-4f1f-8393-8e1684c466e9 div.sk-label input.sk-toggleable__control:checked~label.sk-toggleable__label {background-color: #d4ebff;}#sk-5d9e172b-a320-4f1f-8393-8e1684c466e9 input.sk-hidden--visually {border: 0;clip: rect(1px 1px 1px 1px);clip: rect(1px, 1px, 1px, 1px);height: 1px;margin: -1px;overflow: hidden;padding: 0;position: absolute;width: 1px;}#sk-5d9e172b-a320-4f1f-8393-8e1684c466e9 div.sk-estimator {font-family: monospace;background-color: #f0f8ff;border: 1px dotted black;border-radius: 0.25em;box-sizing: border-box;margin-bottom: 0.5em;}#sk-5d9e172b-a320-4f1f-8393-8e1684c466e9 div.sk-estimator:hover {background-color: #d4ebff;}#sk-5d9e172b-a320-4f1f-8393-8e1684c466e9 div.sk-parallel-item::after {content: \"\";width: 100%;border-bottom: 1px solid gray;flex-grow: 1;}#sk-5d9e172b-a320-4f1f-8393-8e1684c466e9 div.sk-label:hover label.sk-toggleable__label {background-color: #d4ebff;}#sk-5d9e172b-a320-4f1f-8393-8e1684c466e9 div.sk-serial::before {content: \"\";position: absolute;border-left: 1px solid gray;box-sizing: border-box;top: 2em;bottom: 0;left: 50%;}#sk-5d9e172b-a320-4f1f-8393-8e1684c466e9 div.sk-serial {display: flex;flex-direction: column;align-items: center;background-color: white;padding-right: 0.2em;padding-left: 0.2em;}#sk-5d9e172b-a320-4f1f-8393-8e1684c466e9 div.sk-item {z-index: 1;}#sk-5d9e172b-a320-4f1f-8393-8e1684c466e9 div.sk-parallel {display: flex;align-items: stretch;justify-content: center;background-color: white;}#sk-5d9e172b-a320-4f1f-8393-8e1684c466e9 div.sk-parallel::before {content: \"\";position: absolute;border-left: 1px solid gray;box-sizing: border-box;top: 2em;bottom: 0;left: 50%;}#sk-5d9e172b-a320-4f1f-8393-8e1684c466e9 div.sk-parallel-item {display: flex;flex-direction: column;position: relative;background-color: white;}#sk-5d9e172b-a320-4f1f-8393-8e1684c466e9 div.sk-parallel-item:first-child::after {align-self: flex-end;width: 50%;}#sk-5d9e172b-a320-4f1f-8393-8e1684c466e9 div.sk-parallel-item:last-child::after {align-self: flex-start;width: 50%;}#sk-5d9e172b-a320-4f1f-8393-8e1684c466e9 div.sk-parallel-item:only-child::after {width: 0;}#sk-5d9e172b-a320-4f1f-8393-8e1684c466e9 div.sk-dashed-wrapped {border: 1px dashed gray;margin: 0 0.4em 0.5em 0.4em;box-sizing: border-box;padding-bottom: 0.4em;background-color: white;position: relative;}#sk-5d9e172b-a320-4f1f-8393-8e1684c466e9 div.sk-label label {font-family: monospace;font-weight: bold;background-color: white;display: inline-block;line-height: 1.2em;}#sk-5d9e172b-a320-4f1f-8393-8e1684c466e9 div.sk-label-container {position: relative;z-index: 2;text-align: center;}#sk-5d9e172b-a320-4f1f-8393-8e1684c466e9 div.sk-container {/* jupyter's `normalize.less` sets `[hidden] { display: none; }` but bootstrap.min.css set `[hidden] { display: none !important; }` so we also need the `!important` here to be able to override the default hidden behavior on the sphinx rendered scikit-learn.org. See: https://github.com/scikit-learn/scikit-learn/issues/21755 */display: inline-block !important;position: relative;}#sk-5d9e172b-a320-4f1f-8393-8e1684c466e9 div.sk-text-repr-fallback {display: none;}</style><div id=\"sk-5d9e172b-a320-4f1f-8393-8e1684c466e9\" class=\"sk-top-container\"><div class=\"sk-text-repr-fallback\"><pre>Pipeline(steps=[(&#x27;preprocessor&#x27;,\n",
       "                 ColumnTransformer(remainder=&#x27;passthrough&#x27;,\n",
       "                                   transformers=[(&#x27;encoder&#x27;,\n",
       "                                                  OneHotEncoder(handle_unknown=&#x27;ignore&#x27;,\n",
       "                                                                sparse=False),\n",
       "                                                  [&#x27;type&#x27;]),\n",
       "                                                 (&#x27;scaler&#x27;, RobustScaler(),\n",
       "                                                  [&#x27;step&#x27;, &#x27;amount&#x27;,\n",
       "                                                   &#x27;isFlaggedFraud&#x27;, &#x27;diffOrig&#x27;,\n",
       "                                                   &#x27;diffDest&#x27;])])),\n",
       "                (&#x27;classifier&#x27;,\n",
       "                 XGBClassifier(base_score=None, booster=None, callbacks=None,\n",
       "                               colsample_bylevel=None, colsampl...\n",
       "                               feature_types=None, gamma=0.1, gpu_id=None,\n",
       "                               grow_policy=None, importance_type=None,\n",
       "                               interaction_constraints=None, learning_rate=0.1,\n",
       "                               max_bin=None, max_cat_threshold=None,\n",
       "                               max_cat_to_onehot=None, max_delta_step=None,\n",
       "                               max_depth=3, max_leaves=None, min_child_weight=1,\n",
       "                               missing=nan, monotone_constraints=None,\n",
       "                               n_estimators=100, n_jobs=None, nthread=4,\n",
       "                               num_parallel_tree=None, predictor=None, ...))])</pre><b>Please rerun this cell to show the HTML repr or trust the notebook.</b></div><div class=\"sk-container\" hidden><div class=\"sk-item sk-dashed-wrapped\"><div class=\"sk-label-container\"><div class=\"sk-label sk-toggleable\"><input class=\"sk-toggleable__control sk-hidden--visually\" id=\"3e2ba808-c593-4329-9c4e-03fb89e6728b\" type=\"checkbox\" ><label for=\"3e2ba808-c593-4329-9c4e-03fb89e6728b\" class=\"sk-toggleable__label sk-toggleable__label-arrow\">Pipeline</label><div class=\"sk-toggleable__content\"><pre>Pipeline(steps=[(&#x27;preprocessor&#x27;,\n",
       "                 ColumnTransformer(remainder=&#x27;passthrough&#x27;,\n",
       "                                   transformers=[(&#x27;encoder&#x27;,\n",
       "                                                  OneHotEncoder(handle_unknown=&#x27;ignore&#x27;,\n",
       "                                                                sparse=False),\n",
       "                                                  [&#x27;type&#x27;]),\n",
       "                                                 (&#x27;scaler&#x27;, RobustScaler(),\n",
       "                                                  [&#x27;step&#x27;, &#x27;amount&#x27;,\n",
       "                                                   &#x27;isFlaggedFraud&#x27;, &#x27;diffOrig&#x27;,\n",
       "                                                   &#x27;diffDest&#x27;])])),\n",
       "                (&#x27;classifier&#x27;,\n",
       "                 XGBClassifier(base_score=None, booster=None, callbacks=None,\n",
       "                               colsample_bylevel=None, colsampl...\n",
       "                               feature_types=None, gamma=0.1, gpu_id=None,\n",
       "                               grow_policy=None, importance_type=None,\n",
       "                               interaction_constraints=None, learning_rate=0.1,\n",
       "                               max_bin=None, max_cat_threshold=None,\n",
       "                               max_cat_to_onehot=None, max_delta_step=None,\n",
       "                               max_depth=3, max_leaves=None, min_child_weight=1,\n",
       "                               missing=nan, monotone_constraints=None,\n",
       "                               n_estimators=100, n_jobs=None, nthread=4,\n",
       "                               num_parallel_tree=None, predictor=None, ...))])</pre></div></div></div><div class=\"sk-serial\"><div class=\"sk-item sk-dashed-wrapped\"><div class=\"sk-label-container\"><div class=\"sk-label sk-toggleable\"><input class=\"sk-toggleable__control sk-hidden--visually\" id=\"24b31d07-8421-494a-a80f-6f80c2618a5e\" type=\"checkbox\" ><label for=\"24b31d07-8421-494a-a80f-6f80c2618a5e\" class=\"sk-toggleable__label sk-toggleable__label-arrow\">preprocessor: ColumnTransformer</label><div class=\"sk-toggleable__content\"><pre>ColumnTransformer(remainder=&#x27;passthrough&#x27;,\n",
       "                  transformers=[(&#x27;encoder&#x27;,\n",
       "                                 OneHotEncoder(handle_unknown=&#x27;ignore&#x27;,\n",
       "                                               sparse=False),\n",
       "                                 [&#x27;type&#x27;]),\n",
       "                                (&#x27;scaler&#x27;, RobustScaler(),\n",
       "                                 [&#x27;step&#x27;, &#x27;amount&#x27;, &#x27;isFlaggedFraud&#x27;,\n",
       "                                  &#x27;diffOrig&#x27;, &#x27;diffDest&#x27;])])</pre></div></div></div><div class=\"sk-parallel\"><div class=\"sk-parallel-item\"><div class=\"sk-item\"><div class=\"sk-label-container\"><div class=\"sk-label sk-toggleable\"><input class=\"sk-toggleable__control sk-hidden--visually\" id=\"a2679fe7-f7e4-44a0-bd5e-2bcd37bb5190\" type=\"checkbox\" ><label for=\"a2679fe7-f7e4-44a0-bd5e-2bcd37bb5190\" class=\"sk-toggleable__label sk-toggleable__label-arrow\">encoder</label><div class=\"sk-toggleable__content\"><pre>[&#x27;type&#x27;]</pre></div></div></div><div class=\"sk-serial\"><div class=\"sk-item\"><div class=\"sk-estimator sk-toggleable\"><input class=\"sk-toggleable__control sk-hidden--visually\" id=\"7e686c46-bc20-43d6-97ca-f54becf59828\" type=\"checkbox\" ><label for=\"7e686c46-bc20-43d6-97ca-f54becf59828\" class=\"sk-toggleable__label sk-toggleable__label-arrow\">OneHotEncoder</label><div class=\"sk-toggleable__content\"><pre>OneHotEncoder(handle_unknown=&#x27;ignore&#x27;, sparse=False)</pre></div></div></div></div></div></div><div class=\"sk-parallel-item\"><div class=\"sk-item\"><div class=\"sk-label-container\"><div class=\"sk-label sk-toggleable\"><input class=\"sk-toggleable__control sk-hidden--visually\" id=\"8711bc9f-8d19-40d3-9dba-b45471051192\" type=\"checkbox\" ><label for=\"8711bc9f-8d19-40d3-9dba-b45471051192\" class=\"sk-toggleable__label sk-toggleable__label-arrow\">scaler</label><div class=\"sk-toggleable__content\"><pre>[&#x27;step&#x27;, &#x27;amount&#x27;, &#x27;isFlaggedFraud&#x27;, &#x27;diffOrig&#x27;, &#x27;diffDest&#x27;]</pre></div></div></div><div class=\"sk-serial\"><div class=\"sk-item\"><div class=\"sk-estimator sk-toggleable\"><input class=\"sk-toggleable__control sk-hidden--visually\" id=\"6a43613a-64e9-4767-8ce3-4f434ff861a6\" type=\"checkbox\" ><label for=\"6a43613a-64e9-4767-8ce3-4f434ff861a6\" class=\"sk-toggleable__label sk-toggleable__label-arrow\">RobustScaler</label><div class=\"sk-toggleable__content\"><pre>RobustScaler()</pre></div></div></div></div></div></div><div class=\"sk-parallel-item\"><div class=\"sk-item\"><div class=\"sk-label-container\"><div class=\"sk-label sk-toggleable\"><input class=\"sk-toggleable__control sk-hidden--visually\" id=\"ca2dfad9-21a4-4238-b2e9-56ae95444f63\" type=\"checkbox\" ><label for=\"ca2dfad9-21a4-4238-b2e9-56ae95444f63\" class=\"sk-toggleable__label sk-toggleable__label-arrow\">remainder</label><div class=\"sk-toggleable__content\"><pre>[]</pre></div></div></div><div class=\"sk-serial\"><div class=\"sk-item\"><div class=\"sk-estimator sk-toggleable\"><input class=\"sk-toggleable__control sk-hidden--visually\" id=\"18f8d48a-013c-4130-bc1c-e1f8a3425b55\" type=\"checkbox\" ><label for=\"18f8d48a-013c-4130-bc1c-e1f8a3425b55\" class=\"sk-toggleable__label sk-toggleable__label-arrow\">passthrough</label><div class=\"sk-toggleable__content\"><pre>passthrough</pre></div></div></div></div></div></div></div></div><div class=\"sk-item\"><div class=\"sk-estimator sk-toggleable\"><input class=\"sk-toggleable__control sk-hidden--visually\" id=\"ffbfa0f5-0a33-423a-ae24-cab0a2bddeca\" type=\"checkbox\" ><label for=\"ffbfa0f5-0a33-423a-ae24-cab0a2bddeca\" class=\"sk-toggleable__label sk-toggleable__label-arrow\">XGBClassifier</label><div class=\"sk-toggleable__content\"><pre>XGBClassifier(base_score=None, booster=None, callbacks=None,\n",
       "              colsample_bylevel=None, colsample_bynode=None,\n",
       "              colsample_bytree=0.8, early_stopping_rounds=None,\n",
       "              enable_categorical=False, eval_metric=None, feature_types=None,\n",
       "              gamma=0.1, gpu_id=None, grow_policy=None, importance_type=None,\n",
       "              interaction_constraints=None, learning_rate=0.1, max_bin=None,\n",
       "              max_cat_threshold=None, max_cat_to_onehot=None,\n",
       "              max_delta_step=None, max_depth=3, max_leaves=None,\n",
       "              min_child_weight=1, missing=nan, monotone_constraints=None,\n",
       "              n_estimators=100, n_jobs=None, nthread=4, num_parallel_tree=None,\n",
       "              predictor=None, ...)</pre></div></div></div></div></div></div></div>"
      ],
      "text/plain": [
       "Pipeline(steps=[('preprocessor',\n",
       "                 ColumnTransformer(remainder='passthrough',\n",
       "                                   transformers=[('encoder',\n",
       "                                                  OneHotEncoder(handle_unknown='ignore',\n",
       "                                                                sparse=False),\n",
       "                                                  ['type']),\n",
       "                                                 ('scaler', RobustScaler(),\n",
       "                                                  ['step', 'amount',\n",
       "                                                   'isFlaggedFraud', 'diffOrig',\n",
       "                                                   'diffDest'])])),\n",
       "                ('classifier',\n",
       "                 XGBClassifier(base_score=None, booster=None, callbacks=None,\n",
       "                               colsample_bylevel=None, colsampl...\n",
       "                               feature_types=None, gamma=0.1, gpu_id=None,\n",
       "                               grow_policy=None, importance_type=None,\n",
       "                               interaction_constraints=None, learning_rate=0.1,\n",
       "                               max_bin=None, max_cat_threshold=None,\n",
       "                               max_cat_to_onehot=None, max_delta_step=None,\n",
       "                               max_depth=3, max_leaves=None, min_child_weight=1,\n",
       "                               missing=nan, monotone_constraints=None,\n",
       "                               n_estimators=100, n_jobs=None, nthread=4,\n",
       "                               num_parallel_tree=None, predictor=None, ...))])"
      ]
     },
     "execution_count": 48,
     "metadata": {},
     "output_type": "execute_result"
    }
   ],
   "source": [
    "mdl"
   ]
  },
  {
   "attachments": {},
   "cell_type": "markdown",
   "metadata": {},
   "source": [
    "# <span><center><div style=\"font-family: Trebuchet MS; background-color: #1e81b0; color: #eeeee4; padding: 12px; line-height: 1;\">Conclusion</div></center></span>"
   ]
  },
  {
   "attachments": {},
   "cell_type": "markdown",
   "metadata": {},
   "source": [
    "- This project is really challenging because the dataset's label have heavily imbalanced ratio of fraud : non-fraud is 1:99, but we are able to build a model that could suffice our objective (for now) with high precision (99%)\n",
    "- On fraud detection system both precision and recall are important, but on this project we will focus on precision because we want our model to actually predict transactions that most likely to be fraudulent and the XGBoost model seems to be the best for it, since it have 99% precision and 80% f1-score.\n",
    "- Need more research about whether there is actually a way to handle this kind of heavily imbalanced data"
   ]
  }
 ],
 "metadata": {
  "kernelspec": {
   "display_name": "base",
   "language": "python",
   "name": "python3"
  },
  "language_info": {
   "codemirror_mode": {
    "name": "ipython",
    "version": 3
   },
   "file_extension": ".py",
   "mimetype": "text/x-python",
   "name": "python",
   "nbconvert_exporter": "python",
   "pygments_lexer": "ipython3",
   "version": "3.9.13"
  },
  "orig_nbformat": 4,
  "vscode": {
   "interpreter": {
    "hash": "8aa1b9473439039f34c808b0fbd903a84078e0a113d57573a8ff0e6da3c1f9c9"
   }
  }
 },
 "nbformat": 4,
 "nbformat_minor": 2
}
